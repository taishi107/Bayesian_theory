{
 "cells": [
  {
   "cell_type": "markdown",
   "metadata": {},
   "source": [
    "# 変分ベイズのめも"
   ]
  },
  {
   "cell_type": "markdown",
   "metadata": {},
   "source": [
    "### 独立な事象の同時確率\n",
    "xとyが排反である場合\n",
    "$$\n",
    "\\begin{align}\n",
    "P(x,y) &= P(x)P(y)\n",
    "\\end{align}\n",
    "$$ \n",
    "\n",
    " したがって、\n",
    " 排反なグループが$Z_{i} (i=1,...,M)$に分割されるとき、以下のように定義される。\n",
    "\n",
    "$$\n",
    "\\begin{align}\n",
    "q(Z) &= \\prod_{i=1}^M q_{i}(Z_{i})\n",
    "\\end{align}\n",
    "$$"
   ]
  },
  {
   "cell_type": "markdown",
   "metadata": {},
   "source": [
    "### 期待値\n",
    "確率変数が取る値を、確率によって重み付けした平均値 \n",
    "\n",
    "#### 確立分布が一様な場合\n",
    "$X=x_{i}$となる確率が$p_{i}$であるような確率変数$X$を考えたときに期待値$E[X]$は以下のように定義される \n",
    "\n",
    "$$\n",
    "\\begin{align}\n",
    "E(X) &= \\sum_{i=1}^n p_{i}x_{i}\n",
    "\\end{align}\n",
    "$$\n",
    "\n",
    "#### 確立分布が一様ではない場合\n",
    "確立分布$P(x)$に対して、ある関数$f(x)$の期待値は以下のように定義される\n",
    "\n",
    "$$\n",
    "\\begin{align}\n",
    "<f(x)>_{p(x)} &= \\int p(x)f(x)dx\n",
    "\\end{align}\n",
    "$$ \n",
    "\n",
    "※確立密度関数は積分することで確率が与えられる"
   ]
  },
  {
   "cell_type": "markdown",
   "metadata": {},
   "source": [
    "### エントロピー\n",
    "確立分布$p(x)$に対する次のような期待値を以下のように定義する\n",
    "\n",
    "$$\n",
    "\\begin{align}\n",
    "H[p] &= -\\int p(x)\\ln{p(x)}dx\n",
    "\\end{align}\n",
    "$$ \n",
    "\n",
    "エントロピーのように関数を引数にとって、値を返すものを汎関数という"
   ]
  },
  {
   "cell_type": "markdown",
   "metadata": {},
   "source": [
    "### KLダイバージェンス\n",
    "関数同士の類似度を測るためのものである。0に近くなるほど類似度は高い\n",
    "\n",
    "$$\n",
    "\\begin{align}\n",
    "KL[q||p] &= -\\int q(Z)\\ln{\\frac{p(Z|X)}{q(Z)}}dZ \n",
    "\\end{align}\n",
    "$$\n",
    "\n",
    "$q(x)$に対する$\\frac{p(Z|X)}{q(Z)}$の期待値"
   ]
  },
  {
   "cell_type": "markdown",
   "metadata": {},
   "source": [
    "### 下界\n",
    "$$\n",
    "\\begin{align}\n",
    "KL[q||p] &= -\\int q(Z)\\ln{\\frac{p(Z|X)}{q(Z)}}dZ \n",
    "\\end{align}\n",
    "$$"
   ]
  }
 ],
 "metadata": {
  "kernelspec": {
   "display_name": "Python 3",
   "language": "python",
   "name": "python3"
  },
  "language_info": {
   "codemirror_mode": {
    "name": "ipython",
    "version": 3
   },
   "file_extension": ".py",
   "mimetype": "text/x-python",
   "name": "python",
   "nbconvert_exporter": "python",
   "pygments_lexer": "ipython3",
   "version": "3.6.1"
  }
 },
 "nbformat": 4,
 "nbformat_minor": 2
}
