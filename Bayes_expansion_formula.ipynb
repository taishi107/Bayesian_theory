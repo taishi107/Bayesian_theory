{
 "cells": [
  {
   "cell_type": "markdown",
   "metadata": {},
   "source": [
    "## ベイズの展開公式(Ⅰ)\n"
   ]
  },
  {
   "cell_type": "markdown",
   "metadata": {},
   "source": [
    "### ベイズの基本公式\n",
    "$$\n",
    "\\begin{align}\n",
    "P(H|D) &= \\frac{P(D|H)P(H)}{P(D)}\n",
    "\\end{align}\n",
    "$$"
   ]
  },
  {
   "cell_type": "markdown",
   "metadata": {},
   "source": [
    "\n",
    "$H$を原因、$D$を結果とする  \n",
    "$ P(H|D) $ : 事後確率 (結果$D$が原因$H$より得られる確率)  \n",
    "$ P(D|H) $ : 尤度 (原因$H$のもとで結果$D$が得られる確率)  \n",
    "$ P(H) $ : 事前確率 (結果$D$を得る前の原因$H$が起こる確率)"
   ]
  },
  {
   "cell_type": "markdown",
   "metadata": {},
   "source": [
    "### ベイズの展開公式\n",
    "原因$H$が$n$個ある場合\n",
    "$$\n",
    "\\begin{align}\n",
    "P(D) &= P(D \\cap H_{1}) + P(D \\cap H_{2}) + ... + P(D \\cap H_{n})\\\\\n",
    "&= \\sum _{k=1} ^{n}{P(D \\cap H_{k})}\n",
    "\\end{align}\n",
    "$$\n",
    "\n",
    "$\n",
    "\\begin{align}\n",
    "P(D \\cap H) &= P(H|D)P(D)\\\\\n",
    "\\end{align}\n",
    "$\n",
    "により、\n",
    "\n",
    "$$\n",
    "\\begin{align}\n",
    "P(D) &= P(H_{1}|D)P(D) + P(H_{2}|D)P(D) + ... + P(H_{n}|D)P(D)\\\\\n",
    "&= \\sum _{k=1} ^{n}{ P(H_{k}|D)P(D)}\n",
    "\\end{align}\n",
    "$$\n",
    "\n",
    "したがって、結果$D$が原因$H_{i}$より得られる確率は  \n",
    "$$\n",
    "\\begin{align}\n",
    "P(H_{i}|D) &= \\frac{P(D|H_{i})P(H_{i})}{P(D|H_{1})P(H_{1}) + P(D|H_{2})P(H_{2}) + ... + P(D|H_{n})P(H_{n})}\\\\  \n",
    "&= \\frac{P(D|H_{i})P(H_{i})}{\\sum _{k=1} ^{n}{P(D|H_{k})P(H_{k})}}\n",
    "\\end{align}\n",
    "$$"
   ]
  },
  {
   "cell_type": "code",
   "execution_count": 8,
   "metadata": {
    "collapsed": true
   },
   "outputs": [],
   "source": [
    "%matplotlib inline\n",
    "import numpy as np\n",
    "import matplotlib.pyplot as plt"
   ]
  },
  {
   "cell_type": "markdown",
   "metadata": {},
   "source": [
    "### ベイズ更新"
   ]
  },
  {
   "cell_type": "code",
   "execution_count": 187,
   "metadata": {
    "collapsed": true
   },
   "outputs": [],
   "source": [
    "# 初期設定\n",
    "stats = [\"R\",\"G\",\"B\"]\n",
    "box = [[2,8,3],[8,3,6],[3,6,4]]\n",
    "d_n = len(color) # 結果の数\n",
    "h_n = len(box) # 原因の数"
   ]
  },
  {
   "cell_type": "code",
   "execution_count": 105,
   "metadata": {},
   "outputs": [],
   "source": [
    "def Likelihood(H):\n",
    "    prob2 = []\n",
    "    for i in range(d_n):\n",
    "        prob = []\n",
    "        for j in range(h_n):\n",
    "            prob.append(box[j][i]/sum(box[j]))\n",
    "        prob2.append(prob)\n",
    "    return prob2"
   ]
  },
  {
   "cell_type": "code",
   "execution_count": 130,
   "metadata": {},
   "outputs": [],
   "source": [
    "def calc(X,H):\n",
    "    a_prob = []\n",
    "    k = stats.index(X)\n",
    "    prob2 =Likelihood(H)\n",
    "    prob3 = []\n",
    "    for i in range(h_n):\n",
    "        prob3.append(prob2[k][i]*H[i])\n",
    "    sum_prob = sum(prob3)\n",
    "    for j in range(h_n):\n",
    "        a_prob.append((prob2[k][j]*H[j])/(sum_prob))\n",
    "        \n",
    "    return a_prob"
   ]
  },
  {
   "cell_type": "code",
   "execution_count": 180,
   "metadata": {
    "collapsed": true
   },
   "outputs": [],
   "source": [
    "def draw(Y):\n",
    "    x=[]\n",
    "    y=[]\n",
    "    x = [i for i in range(len(select))]\n",
    "    for i in range(h_n):\n",
    "        y =  [Y[j][i] for j in range(len(select))]\n",
    "        plt.plot(x,y,linewidth=2, color=\"red\")\n",
    "        plt.title(\"box{}\".format(i+1))\n",
    "        plt.xlabel(\"Number of trials\")\n",
    "        plt.ylabel(\"probability\")\n",
    "        plt.grid(True)\n",
    "        plt.figure()"
   ]
  },
  {
   "cell_type": "code",
   "execution_count": 190,
   "metadata": {},
   "outputs": [],
   "source": [
    "select = [\"R\",\"R\",\"R\",\"G\",\"R\",\"G\",\"G\",\"G\",\"R\",\"G\",\"R\",\"G\",\"R\",\"R\",\"R\",\"G\"]"
   ]
  },
  {
   "cell_type": "code",
   "execution_count": 191,
   "metadata": {},
   "outputs": [
    {
     "name": "stdout",
     "output_type": "stream",
     "text": [
      "1回目:Rを取る\n",
      "箱1: 0.17989417989417988\n",
      "箱2: 0.5502645502645502\n",
      "箱3: 0.2698412698412699\n",
      "------------------------------------------------\n",
      "2回目:Rを取る\n",
      "箱1: 0.07932477870033625\n",
      "箱2: 0.7421944692239072\n",
      "箱3: 0.1784807520757566\n",
      "------------------------------------------------\n",
      "3回目:Rを取る\n",
      "箱1: 0.03030800751685471\n",
      "箱2: 0.8674024671137607\n",
      "箱3: 0.10228952536938467\n",
      "------------------------------------------------\n",
      "4回目:Gを取る\n",
      "箱1: 0.08519095299384458\n",
      "箱2: 0.6991694472404864\n",
      "箱3: 0.21563959976566913\n",
      "------------------------------------------------\n",
      "5回目:Rを取る\n",
      "箱1: 0.03344380751231158\n",
      "箱2: 0.8395742358393803\n",
      "箱3: 0.12698195664830805\n",
      "------------------------------------------------\n",
      "6回目:Gを取る\n",
      "箱1: 0.09052554999264295\n",
      "箱2: 0.6516888017861199\n",
      "箱3: 0.2577856482212372\n",
      "------------------------------------------------\n",
      "7回目:Gを取る\n",
      "箱1: 0.19230226975086173\n",
      "箱2: 0.3969896599902177\n",
      "箱3: 0.4107080702589206\n",
      "------------------------------------------------\n",
      "8回目:Gを取る\n",
      "箱1: 0.31310615655057034\n",
      "箱2: 0.18535832266615515\n",
      "箱3: 0.5015355207832745\n",
      "------------------------------------------------\n",
      "9回目:Rを取る\n",
      "箱1: 0.19180868023854175\n",
      "箱2: 0.34733069315803816\n",
      "箱3: 0.4608606266034201\n",
      "------------------------------------------------\n",
      "10回目:Gを取る\n",
      "箱1: 0.30108590076543446\n",
      "箱2: 0.1563475295843539\n",
      "箱3: 0.5425665696502118\n",
      "------------------------------------------------\n",
      "11回目:Rを取る\n",
      "箱1: 0.18898479583352792\n",
      "箱2: 0.30018009632464504\n",
      "箱3: 0.510835107841827\n",
      "------------------------------------------------\n",
      "12回目:Gを取る\n",
      "箱1: 0.2871270739756272\n",
      "箱2: 0.1307840766870571\n",
      "箱3: 0.5820888493373156\n",
      "------------------------------------------------\n",
      "13回目:Rを取る\n",
      "箱1: 0.184019748895347\n",
      "箱2: 0.2563891139470673\n",
      "箱3: 0.5595911371575857\n",
      "------------------------------------------------\n",
      "14回目:Rを取る\n",
      "箱1: 0.10180023127926506\n",
      "箱2: 0.4338487341733535\n",
      "箱3: 0.4643510345473814\n",
      "------------------------------------------------\n",
      "15回目:Rを取る\n",
      "箱1: 0.04789712178390891\n",
      "箱2: 0.6243863626535648\n",
      "箱3: 0.32771651556252623\n",
      "------------------------------------------------\n",
      "16回目:Gを取る\n",
      "箱1: 0.10131886114197847\n",
      "箱2: 0.3787564090796736\n",
      "箱3: 0.519924729778348\n",
      "------------------------------------------------\n"
     ]
    }
   ],
   "source": [
    "H = [1.0/h_n for i in range(h_n)]\n",
    "change = []\n",
    "for i in range(len(select)):\n",
    "    ans = calc(select[i],H)\n",
    "    change.append(ans)\n",
    "    H = ans \n",
    "    print(\"{}回目:{}を取る\".format(i+1,select[i]))\n",
    "    for j in range(h_n):\n",
    "        print(\"箱{}:\".format(j+1),ans[j])\n",
    "    print(\"------------------------------------------------\")"
   ]
  },
  {
   "cell_type": "code",
   "execution_count": 192,
   "metadata": {},
   "outputs": [
    {
     "data": {
      "image/png": "[encoded data removed]",
      "text/plain": [
       "<matplotlib.figure.Figure at 0x20107bbb278>"
      ]
     },
     "metadata": {},
     "output_type": "display_data"
    },
    {
     "data": {
      "image/png": "[encoded data removed]",
      "text/plain": [
       "<matplotlib.figure.Figure at 0x201086bd828>"
      ]
     },
     "metadata": {},
     "output_type": "display_data"
    },
    {
     "data": {
      "image/png": "[encoded data removed]",
      "text/plain": [
       "<matplotlib.figure.Figure at 0x20107f404a8>"
      ]
     },
     "metadata": {},
     "output_type": "display_data"
    },
    {
     "data": {
      "text/plain": [
       "<matplotlib.figure.Figure at 0x2010822fdd8>"
      ]
     },
     "metadata": {},
     "output_type": "display_data"
    }
   ],
   "source": [
    "draw(change)"
   ]
  }
 ],
 "metadata": {
  "kernelspec": {
   "display_name": "Python 3",
   "language": "python",
   "name": "python3"
  },
  "language_info": {
   "codemirror_mode": {
    "name": "ipython",
    "version": 3
   },
   "file_extension": ".py",
   "mimetype": "text/x-python",
   "name": "python",
   "nbconvert_exporter": "python",
   "pygments_lexer": "ipython3",
   "version": "3.6.1"
  }
 },
 "nbformat": 4,
 "nbformat_minor": 2
}
